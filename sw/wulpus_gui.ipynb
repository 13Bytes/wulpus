{
 "cells": [
  {
   "cell_type": "code",
   "execution_count": null,
   "id": "050accf4",
   "metadata": {},
   "outputs": [],
   "source": [
    "\"\"\"\n",
    "   Copyright (C) 2023 ETH Zurich. All rights reserved.\n",
    "   Author: Sergei Vostrikov, ETH Zurich\n",
    "           Cedric Hirschi, ETH Zurich\n",
    "   Licensed under the Apache License, Version 2.0 (the \"License\");\n",
    "   you may not use this file except in compliance with the License.\n",
    "   You may obtain a copy of the License at\n",
    "       http://www.apache.org/licenses/LICENSE-2.0\n",
    "   Unless required by applicable law or agreed to in writing, software\n",
    "   distributed under the License is distributed on an \"AS IS\" BASIS,\n",
    "   WITHOUT WARRANTIES OR CONDITIONS OF ANY KIND, either express or implied.\n",
    "   See the License for the specific language governing permissions and\n",
    "   limitations under the License.\n",
    "\n",
    "   SPDX-License-Identifier: Apache-2.0\n",
    "\"\"\""
   ]
  },
  {
   "cell_type": "markdown",
   "id": "92c90838",
   "metadata": {},
   "source": [
    "# If you are not familiar with Jupyter Notebooks, please first check online tutorials such as https://realpython.com/jupyter-notebook-introduction/#creating-a-notebook"
   ]
  },
  {
   "cell_type": "code",
   "execution_count": null,
   "id": "38248630",
   "metadata": {},
   "outputs": [],
   "source": [
    "%matplotlib widget\n",
    "import ipywidgets as widgets\n",
    "import matplotlib.pyplot as plt\n",
    "import numpy as np"
   ]
  },
  {
   "cell_type": "markdown",
   "id": "8304d151",
   "metadata": {},
   "source": [
    "### Test of Matplotlib Widget Backend"
   ]
  },
  {
   "cell_type": "code",
   "execution_count": null,
   "id": "a804099f",
   "metadata": {},
   "outputs": [],
   "source": [
    "import matplotlib.pyplot as plt\n",
    "\n",
    "plt.plot([[1, 2], [0, 0]])"
   ]
  },
  {
   "cell_type": "markdown",
   "id": "ce4b17cd",
   "metadata": {},
   "source": [
    "#### If you do not see a figure above,  try to restart the kernel.\n",
    "#### If it does not help, check the installation of **ipympl** library."
   ]
  },
  {
   "cell_type": "markdown",
   "id": "d928ac55",
   "metadata": {},
   "source": [
    "## Run WULPUS GUI Demo"
   ]
  },
  {
   "cell_type": "markdown",
   "id": "ca110816",
   "metadata": {},
   "source": [
    "## Prepare TX/RX configurations for HW"
   ]
  },
  {
   "cell_type": "code",
   "execution_count": null,
   "id": "c8caa750",
   "metadata": {
    "scrolled": true
   },
   "outputs": [],
   "source": [
    "# from wulpus.rx_tx_conf import WulpusRxTxConfigGen\n",
    "import wulpus.rx_tx_conf_gui as conf_gui\n",
    "\n",
    "# # Generate Transmit/Receive configs\n",
    "# conf_gen = WulpusRxTxConfigGen()\n",
    "\n",
    "# Generate Transmit/Receive configs using the GUI\n",
    "conf_gen = conf_gui.WulpusRxTxConfigGenGUI()\n",
    "\n",
    "display(conf_gen)"
   ]
  },
  {
   "cell_type": "code",
   "execution_count": null,
   "id": "26419cf8",
   "metadata": {},
   "outputs": [],
   "source": [
    "from wulpus.uss_conf import WulpusUssConfig, PGA_GAIN\n",
    "from wulpus.uss_conf_gui import WulpusUssConfigGUI\n",
    "\n",
    "# TX and RX active channels IDs (only when not using the GUI)\n",
    "conf_gen.add_config([7], [7])\n",
    "# conf_gen.add_config([0], [6])\n",
    "\n",
    "# load configurations from the GUI\n",
    "tx_confs = conf_gen.get_tx_configs()\n",
    "rx_confs = conf_gen.get_rx_configs()\n",
    "\n",
    "# # load configurations directly from a file\n",
    "# tx_confs = conf_gen.with_file(\"tx_rx_configs.json\").get_tx_configs()\n",
    "# rx_confs = conf_gen.with_file(\"tx_rx_configs.json\").get_rx_configs()\n",
    "\n",
    "# # load configurations for the carotid example\n",
    "# tx_confs = conf_gen.with_file('examples/carotid/tx_rx_configs_carotid.json').get_tx_configs()\n",
    "# rx_confs = conf_gen.with_file('examples/carotid/tx_rx_configs_carotid.json').get_rx_configs()\n",
    "\n",
    "# # load configurations for the waterbath example\n",
    "# tx_confs = conf_gen.with_file('examples/waterbath/tx_rx_configs_waterbath.json').get_tx_configs()\n",
    "# rx_confs = conf_gen.with_file('examples/waterbath/tx_rx_configs_waterbath.json').get_rx_configs()\n",
    "\n",
    "print('TX config: ', np.binary_repr(tx_confs[0]))\n",
    "print('RX config: ', np.binary_repr(rx_confs[0]))\n",
    "\n",
    "# Create US subsystem configuration\n",
    "uss_conf = WulpusUssConfig(num_acqs=2000,\n",
    "                        #    dcdc_turnon=195315,\n",
    "                        #    start_hvmuxrx=500,\n",
    "                        #    meas_period=228885,\n",
    "                           num_txrx_configs=len(tx_confs),\n",
    "                           tx_configs=tx_confs,\n",
    "                           rx_configs=rx_confs,\n",
    "                           rx_gain=PGA_GAIN[16])\n",
    "                        #    trans_freq=1000000,\n",
    "                        #    num_pulses=10,\n",
    "                        #    sampling_freq=4000000)\n",
    "\n",
    "# Modify US subsystem configuration using the GUI\n",
    "uss_conf = WulpusUssConfigGUI(uss_conf)\n",
    "\n",
    "# # Load settings from a file\n",
    "# uss_conf.with_file('uss_config.json')\n",
    "\n",
    "# # Load settings from a file for the carotid example\n",
    "# uss_conf.with_file('examples/carotid/uss_config_carotid.json')\n",
    "\n",
    "# # Load settings from a file for the waterbath example\n",
    "# uss_conf.with_file('examples/waterbath/uss_config_waterbath.json')\n",
    "\n",
    "print(\"Gain dB: \", uss_conf.rx_gain)\n",
    "\n",
    "display(uss_conf)"
   ]
  },
  {
   "cell_type": "markdown",
   "id": "58156a26",
   "metadata": {},
   "source": [
    "### Initialize a connection\n",
    "\n",
    "We initialize a `WulpusDongle` object here such that it can run independently from the GUI."
   ]
  },
  {
   "cell_type": "code",
   "execution_count": null,
   "id": "a1d75de2",
   "metadata": {},
   "outputs": [],
   "source": [
    "from wulpus.dongle import WulpusDongle\n",
    "\n",
    "# Create a dongle object\n",
    "dongle = WulpusDongle()"
   ]
  },
  {
   "cell_type": "markdown",
   "id": "250c7a75",
   "metadata": {},
   "source": [
    "### Run GUI \n",
    "(Check sw/docs/gui_overview.pdf for more information)"
   ]
  },
  {
   "cell_type": "code",
   "execution_count": null,
   "id": "efbda2f1",
   "metadata": {},
   "outputs": [],
   "source": [
    "%matplotlib widget\n",
    "from wulpus.gui import WulpusGuiSingleCh\n",
    "\n",
    "# Create a GUI\n",
    "gui = WulpusGuiSingleCh(dongle, uss_conf, max_vis_fps = 20)\n",
    "\n",
    "display(gui)"
   ]
  },
  {
   "cell_type": "markdown",
   "id": "7598496b",
   "metadata": {},
   "source": [
    "## Loading and extracting the saved data"
   ]
  },
  {
   "cell_type": "markdown",
   "id": "19ce6842",
   "metadata": {},
   "source": [
    "The data is saved in a `.npz` file. This is a compressed file format that can be used with the `numpy` library."
   ]
  },
  {
   "cell_type": "code",
   "execution_count": null,
   "id": "6e65c319",
   "metadata": {},
   "outputs": [],
   "source": [
    "# Data can be loaded as easy as:\n",
    "data = np.load('examples/waterbath/data_31.npz')\n",
    "\n",
    "# The keys of the data are:\n",
    "print('Keys:', data.files)"
   ]
  },
  {
   "cell_type": "markdown",
   "id": "687866e5",
   "metadata": {},
   "source": [
    "The structure is a dictionary with the length `num_acquisitions` (Number of acquisitions) and consists of the following keys:\n",
    "\n",
    "**data_arr:** This column actually contains the data, each of length `num_samples` (Number of samples). This can be seen as data for one A-mode diagram.\n",
    "\n",
    "**acq_num_arr:** The number of each acquisition. The acquisition number is incremented by 1 for each acquisition, starting at zero. If one number is missing (step larger than one), it means that that this acquisition got dropped during transmission.\n",
    "\n",
    "**tx_rx_id_arr:** The TX/RX configuration ID of the acquisition. These are the same as the ones in the `Active RX ID` dropdown in the GUI or how they are saved from the TX/RX configuration GUI."
   ]
  },
  {
   "cell_type": "code",
   "execution_count": null,
   "id": "0b453f1c",
   "metadata": {},
   "outputs": [],
   "source": [
    "# The shape of the data is:\n",
    "print('Data shape:', data['data_arr'].shape)\n",
    "\n",
    "# The unique IDs of the active channels are:\n",
    "print('Unique IDs:', np.unique(data['tx_rx_id_arr']))"
   ]
  },
  {
   "cell_type": "markdown",
   "id": "9f76d3a3",
   "metadata": {},
   "source": [
    "In the case of this waterbath example, we have 100 acquisitions, each with 400 samples. The TX/RX configuration is the same for all acquisitions (0).\n",
    "\n",
    "Since the `data_arr` is a bit awkward to use in this form (`(400, 100)`), we transpose it to `(100, 400)`."
   ]
  },
  {
   "cell_type": "code",
   "execution_count": null,
   "id": "516ddc22",
   "metadata": {},
   "outputs": [],
   "source": [
    "# Transpose the data such that we can index via time\n",
    "data_meas = data['data_arr'].T\n",
    "\n",
    "# The shape of the data is:\n",
    "print('Data shape:', data_meas.shape)"
   ]
  },
  {
   "cell_type": "markdown",
   "id": "21cad09e",
   "metadata": {},
   "source": [
    "The data can then be easily used further, for example to just make a plot of one acquisition:"
   ]
  },
  {
   "cell_type": "code",
   "execution_count": null,
   "id": "45e45648",
   "metadata": {},
   "outputs": [],
   "source": [
    "# Plot one acquisition\n",
    "FRAME = 50\n",
    "\n",
    "plt.figure(figsize=(10, 5))\n",
    "plt.plot(data_meas[FRAME])\n",
    "plt.title(f'Acquisition {FRAME}/{len(data_meas)} of the waterbath example')\n",
    "plt.xlabel('Samples')\n",
    "plt.ylabel('ADC digital code')\n",
    "plt.grid()\n",
    "plt.show()"
   ]
  },
  {
   "cell_type": "markdown",
   "id": "530d78d5",
   "metadata": {},
   "source": [
    "**Note:** In this example, we have large oscillations which is due to the nature of the transducer.\n",
    "\n",
    "Something more advanced and useful can be done with `ipywidgets`: Make a slider to go through the acquisitions:"
   ]
  },
  {
   "cell_type": "code",
   "execution_count": null,
   "id": "f29438e0",
   "metadata": {},
   "outputs": [],
   "source": [
    "plt.figure(figsize=(10, 5))\n",
    "plot_data = plt.plot(data_meas[0])\n",
    "plt.ylim(-2500, 2500)\n",
    "plt.title(f'Acquisition 0/{len(data_meas)} of the waterbath example')\n",
    "plt.xlabel('Samples')\n",
    "plt.ylabel('ADC digital code')\n",
    "plt.grid()\n",
    "plt.show()\n",
    "\n",
    "def visualize(frame):\n",
    "    plot_data[0].set_ydata(data_meas[frame])\n",
    "    plt.title(f'Acquisition {frame}/{len(data_meas)} of the waterbath example')\n",
    "    plt.draw()\n",
    "\n",
    "widgets.interact(visualize, frame=widgets.IntSlider(min=0, max=len(data_meas)-1, step=1, value=0))"
   ]
  },
  {
   "cell_type": "markdown",
   "id": "82536b1f",
   "metadata": {},
   "source": [
    "We can see that during the first ten samples, the object is moved further from the transducer. This can be observed via the smaller, high frequency oscillations."
   ]
  }
 ],
 "metadata": {
  "kernelspec": {
   "display_name": "Python 3 (ipykernel)",
   "language": "python",
   "name": "python3"
  },
  "language_info": {
   "codemirror_mode": {
    "name": "ipython",
    "version": 3
   },
   "file_extension": ".py",
   "mimetype": "text/x-python",
   "name": "python",
   "nbconvert_exporter": "python",
   "pygments_lexer": "ipython3",
   "version": "3.10.6"
  },
  "vscode": {
   "interpreter": {
    "hash": "916dbcbb3f70747c44a77c7bcd40155683ae19c65e1c03b4aa3499c5328201f1"
   }
  }
 },
 "nbformat": 4,
 "nbformat_minor": 5
}
