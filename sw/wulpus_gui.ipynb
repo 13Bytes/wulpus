{
 "cells": [
  {
   "cell_type": "code",
   "execution_count": null,
   "id": "050accf4",
   "metadata": {},
   "outputs": [],
   "source": [
    "\"\"\"\n",
    "   Copyright (C) 2023 ETH Zurich. All rights reserved.\n",
    "   Author: Sergei Vostrikov, ETH Zurich\n",
    "           Cedric Hirschi, ETH Zurich\n",
    "   Licensed under the Apache License, Version 2.0 (the \"License\");\n",
    "   you may not use this file except in compliance with the License.\n",
    "   You may obtain a copy of the License at\n",
    "       http://www.apache.org/licenses/LICENSE-2.0\n",
    "   Unless required by applicable law or agreed to in writing, software\n",
    "   distributed under the License is distributed on an \"AS IS\" BASIS,\n",
    "   WITHOUT WARRANTIES OR CONDITIONS OF ANY KIND, either express or implied.\n",
    "   See the License for the specific language governing permissions and\n",
    "   limitations under the License.\n",
    "\n",
    "   SPDX-License-Identifier: Apache-2.0\n",
    "\"\"\""
   ]
  },
  {
   "cell_type": "markdown",
   "id": "92c90838",
   "metadata": {},
   "source": [
    "# If you are not familiar with Jupyter Notebooks, please first check online tutorials such as https://realpython.com/jupyter-notebook-introduction/#creating-a-notebook"
   ]
  },
  {
   "cell_type": "code",
   "execution_count": null,
   "id": "38248630",
   "metadata": {},
   "outputs": [],
   "source": [
    "%matplotlib widget\n",
    "import ipywidgets as widgets\n",
    "import matplotlib.pyplot as plt\n",
    "import numpy as np"
   ]
  },
  {
   "cell_type": "markdown",
   "id": "8304d151",
   "metadata": {},
   "source": [
    "### Test of Matplotlib Widget Backend"
   ]
  },
  {
   "cell_type": "code",
   "execution_count": null,
   "id": "a804099f",
   "metadata": {},
   "outputs": [],
   "source": [
    "import matplotlib.pyplot as plt\n",
    "\n",
    "plt.plot([[1, 2], [0, 0]])"
   ]
  },
  {
   "cell_type": "markdown",
   "id": "ce4b17cd",
   "metadata": {},
   "source": [
    "#### If you do not see a figure above,  try to restart the kernel.\n",
    "#### If it does not help, check the installation of **ipympl** library."
   ]
  },
  {
   "cell_type": "markdown",
   "id": "d928ac55",
   "metadata": {},
   "source": [
    "## Run WULPUS GUI Demo"
   ]
  },
  {
   "cell_type": "markdown",
   "id": "ca110816",
   "metadata": {},
   "source": [
    "## Prepare TX/RX configurations for HW"
   ]
  },
  {
   "cell_type": "code",
   "execution_count": null,
   "id": "c8caa750",
   "metadata": {
    "scrolled": true
   },
   "outputs": [],
   "source": [
    "# from wulpus.rx_tx_conf import WulpusRxTxConfigGen\n",
    "import wulpus.rx_tx_conf_gui as conf_gui\n",
    "\n",
    "# # Generate Transmit/Receive configs\n",
    "# conf_gen = WulpusRxTxConfigGen()\n",
    "\n",
    "# Generate Transmit/Receive configs using the GUI\n",
    "conf_gen = conf_gui.WulpusRxTxConfigGenGUI()\n",
    "\n",
    "display(conf_gen)"
   ]
  },
  {
   "cell_type": "code",
   "execution_count": null,
   "id": "26419cf8",
   "metadata": {},
   "outputs": [],
   "source": [
    "from wulpus.uss_conf import WulpusUssConfig, PGA_GAIN\n",
    "from wulpus.uss_conf_gui import WulpusUssConfigGUI\n",
    "\n",
    "# TX and RX active channels IDs (only when not using the GUI)\n",
    "conf_gen.add_config([7], [7])\n",
    "# conf_gen.add_config([0], [6])\n",
    "\n",
    "# load configurations from the GUI\n",
    "tx_confs = conf_gen.get_tx_configs()\n",
    "rx_confs = conf_gen.get_rx_configs()\n",
    "\n",
    "# # load configurations directly from a file\n",
    "# tx_confs = conf_gen.with_file(\"tx_rx_configs.json\").get_tx_configs()\n",
    "# rx_confs = conf_gen.with_file(\"tx_rx_configs.json\").get_rx_configs()\n",
    "\n",
    "# # load b-mode configurations from a file\n",
    "# tx_confs = conf_gen.with_file(\"bmode_configs.json\").get_tx_configs()\n",
    "# rx_confs = conf_gen.with_file(\"bmode_configs.json\").get_rx_configs()\n",
    "\n",
    "print('TX config: ', np.binary_repr(tx_confs[0]))\n",
    "print('RX config: ', np.binary_repr(rx_confs[0]))\n",
    "\n",
    "# Create US subsystem configuration\n",
    "uss_conf = WulpusUssConfig(num_acqs=100,\n",
    "                           start_hvmuxrx=500,\n",
    "                           meas_period=321965,\n",
    "                           num_txrx_configs=len(tx_confs),\n",
    "                           tx_configs=tx_confs,\n",
    "                           rx_configs=rx_confs,\n",
    "                           rx_gain=PGA_GAIN[-10])\n",
    "\n",
    "# Modify US subsystem configuration using the GUI\n",
    "uss_conf = WulpusUssConfigGUI(uss_conf)\n",
    "\n",
    "print(\"Gain dB: \", uss_conf.rx_gain)\n",
    "\n",
    "display(uss_conf)"
   ]
  },
  {
   "cell_type": "markdown",
   "id": "250c7a75",
   "metadata": {},
   "source": [
    "### Run GUI \n",
    "(Check sw/docs/gui_overview.pdf for more information)"
   ]
  },
  {
   "cell_type": "code",
   "execution_count": null,
   "id": "efbda2f1",
   "metadata": {},
   "outputs": [],
   "source": [
    "%matplotlib widget\n",
    "from wulpus.gui import WulpusGuiSingleCh\n",
    "from wulpus.dongle import WulpusDongle\n",
    "\n",
    "# Create a dongle object\n",
    "dongle = WulpusDongle()\n",
    "\n",
    "# Create a GUI\n",
    "gui = WulpusGuiSingleCh(dongle, uss_conf, max_vis_fps = 5)\n",
    "\n",
    "display(gui)"
   ]
  }
 ],
 "metadata": {
  "kernelspec": {
   "display_name": "Python 3 (ipykernel)",
   "language": "python",
   "name": "python3"
  },
  "language_info": {
   "codemirror_mode": {
    "name": "ipython",
    "version": 3
   },
   "file_extension": ".py",
   "mimetype": "text/x-python",
   "name": "python",
   "nbconvert_exporter": "python",
   "pygments_lexer": "ipython3",
   "version": "3.10.6"
  },
  "vscode": {
   "interpreter": {
    "hash": "916dbcbb3f70747c44a77c7bcd40155683ae19c65e1c03b4aa3499c5328201f1"
   }
  }
 },
 "nbformat": 4,
 "nbformat_minor": 5
}
